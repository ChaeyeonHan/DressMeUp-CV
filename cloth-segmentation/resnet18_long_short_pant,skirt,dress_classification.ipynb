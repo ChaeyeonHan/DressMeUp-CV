{
  "nbformat": 4,
  "nbformat_minor": 0,
  "metadata": {
    "colab": {
      "provenance": [],
      "gpuType": "T4"
    },
    "kernelspec": {
      "name": "python3",
      "display_name": "Python 3"
    },
    "language_info": {
      "name": "python"
    },
    "accelerator": "GPU"
  },
  "cells": [
    {
      "cell_type": "code",
      "execution_count": 1,
      "metadata": {
        "id": "Y6MOVGdKDpZb"
      },
      "outputs": [],
      "source": [
        "import torch\n",
        "import torch.nn as nn\n",
        "import torch.nn.functional as F\n",
        "import torch.optim as optim\n",
        "import torchvision\n",
        "from torchvision import datasets, transforms, models\n",
        "from torchvision.transforms import autoaugment\n",
        "from torch.utils.data import DataLoader, random_split\n",
        "from torch.optim.lr_scheduler import CosineAnnealingLR, ReduceLROnPlateau, StepLR\n",
        "import numpy as np\n",
        "import os\n",
        "from PIL import Image\n",
        "import matplotlib.pyplot as plt\n",
        "from sklearn.metrics import confusion_matrix, precision_recall_fscore_support\n",
        "import itertools"
      ]
    },
    {
      "cell_type": "code",
      "source": [
        "from google.colab import drive\n",
        "drive.mount('/content/drive')"
      ],
      "metadata": {
        "colab": {
          "base_uri": "https://localhost:8080/"
        },
        "id": "eMAgJI5bE0se",
        "outputId": "126cfea5-7f1f-4bb3-ed20-5a0bc1bc2ec1"
      },
      "execution_count": 2,
      "outputs": [
        {
          "output_type": "stream",
          "name": "stdout",
          "text": [
            "Mounted at /content/drive\n"
          ]
        }
      ]
    },
    {
      "cell_type": "code",
      "source": [
        "device = torch.device(\"cuda\" if torch.cuda.is_available() else \"cpu\")\n",
        "print(f\"Using {device} device\")\n",
        "\n",
        "torch.manual_seed(777)\n",
        "if device == 'cuda':\n",
        "    torch.cuda.manual_seed_all(777)"
      ],
      "metadata": {
        "colab": {
          "base_uri": "https://localhost:8080/"
        },
        "id": "Z_yVUU2iE1_A",
        "outputId": "122f3cdc-642c-4a8a-a97d-595d42a634d6"
      },
      "execution_count": 3,
      "outputs": [
        {
          "output_type": "stream",
          "name": "stdout",
          "text": [
            "Using cuda device\n"
          ]
        }
      ]
    },
    {
      "cell_type": "code",
      "source": [
        "transform = {\n",
        "    'train': transforms.Compose([\n",
        "        transforms.RandomResizedCrop(224),\n",
        "        transforms.RandomHorizontalFlip(),\n",
        "        transforms.RandomRotation(degrees=15),\n",
        "        transforms.ColorJitter(brightness=0.2, contrast=0.2, saturation=0.2, hue=0.1),\n",
        "        transforms.ToTensor(),\n",
        "        transforms.Normalize([0.485, 0.456, 0.406], [0.229, 0.224, 0.225]),\n",
        "    ]),\n",
        "    'valid': transforms.Compose([\n",
        "        transforms.Resize(256),\n",
        "        transforms.CenterCrop(224),\n",
        "        transforms.ToTensor(),\n",
        "        transforms.Normalize([0.485, 0.456, 0.406], [0.229, 0.224, 0.225]),\n",
        "    ]),\n",
        "    'test': transforms.Compose([\n",
        "        transforms.Resize(256),\n",
        "        transforms.CenterCrop(224),\n",
        "        transforms.ToTensor(),\n",
        "        transforms.Normalize([0.485, 0.456, 0.406], [0.229, 0.224, 0.225]),\n",
        "    ]),\n",
        "}"
      ],
      "metadata": {
        "id": "zMMaOtzgFZDh"
      },
      "execution_count": 5,
      "outputs": []
    },
    {
      "cell_type": "code",
      "source": [
        "data_dir = \"/content/drive/MyDrive/dressmeup/cloths\""
      ],
      "metadata": {
        "id": "aZq57YSIJwo_"
      },
      "execution_count": 6,
      "outputs": []
    },
    {
      "cell_type": "code",
      "source": [
        "image_datasets = {x: datasets.ImageFolder(root=data_dir+'/'+x, transform=transform[x])\n",
        "                  for x in ['train', 'valid', 'test']}\n",
        "dataloaders = {x: DataLoader(image_datasets[x], batch_size=16, shuffle=True, num_workers=2)\n",
        "               for x in ['train', 'valid', 'test']}"
      ],
      "metadata": {
        "id": "gMaoGV-dJuoD"
      },
      "execution_count": 7,
      "outputs": []
    },
    {
      "cell_type": "code",
      "source": [
        "model = models.resnet18(pretrained=True)\n",
        "model.fc = nn.Linear(model.fc.in_features, 6)\n",
        "\n",
        "\n",
        "# model.fc = nn.Sequential(\n",
        "#     nn.Linear(model.fc.in_features, 512),\n",
        "#     nn.ReLU(),\n",
        "#     nn.Dropout(0.4),\n",
        "#     nn.Linear(512, 2)\n",
        "# )\n",
        "\n",
        "\n",
        "model = model.to(device)"
      ],
      "metadata": {
        "id": "MIdkVxmAKCf6",
        "colab": {
          "base_uri": "https://localhost:8080/"
        },
        "outputId": "09d27f84-6f55-4124-a978-9951e633fec0"
      },
      "execution_count": 8,
      "outputs": [
        {
          "output_type": "stream",
          "name": "stderr",
          "text": [
            "/usr/local/lib/python3.10/dist-packages/torchvision/models/_utils.py:208: UserWarning: The parameter 'pretrained' is deprecated since 0.13 and may be removed in the future, please use 'weights' instead.\n",
            "  warnings.warn(\n",
            "/usr/local/lib/python3.10/dist-packages/torchvision/models/_utils.py:223: UserWarning: Arguments other than a weight enum or `None` for 'weights' are deprecated since 0.13 and may be removed in the future. The current behavior is equivalent to passing `weights=ResNet18_Weights.IMAGENET1K_V1`. You can also use `weights=ResNet18_Weights.DEFAULT` to get the most up-to-date weights.\n",
            "  warnings.warn(msg)\n",
            "Downloading: \"https://download.pytorch.org/models/resnet18-f37072fd.pth\" to /root/.cache/torch/hub/checkpoints/resnet18-f37072fd.pth\n",
            "100%|██████████| 44.7M/44.7M [00:00<00:00, 157MB/s]\n"
          ]
        }
      ]
    },
    {
      "cell_type": "code",
      "source": [
        "criterion = nn.CrossEntropyLoss()\n",
        "optimizer = optim.SGD(model.parameters(), lr=0.001, momentum=0.9)\n",
        "step_lr_scheduler = StepLR(optimizer, step_size=7, gamma=0.1)"
      ],
      "metadata": {
        "id": "_QxBskHqKJ-E"
      },
      "execution_count": 9,
      "outputs": []
    },
    {
      "cell_type": "code",
      "source": [
        "def train(model, criterion, optimizer, scheduler, num_epochs=10):\n",
        "    for epoch in range(num_epochs):\n",
        "        model.train()\n",
        "        running_loss = 0.0\n",
        "\n",
        "        # Training phase\n",
        "        for inputs, labels in dataloaders['train']:\n",
        "            inputs, labels = inputs.to(device), labels.to(device)\n",
        "\n",
        "            optimizer.zero_grad()\n",
        "\n",
        "            outputs = model(inputs)\n",
        "            loss = criterion(outputs, labels)\n",
        "            loss.backward()\n",
        "            optimizer.step()\n",
        "\n",
        "            running_loss += loss.item() * inputs.size(0)\n",
        "\n",
        "        # Update the learning rate scheduler after each epoch\n",
        "        scheduler.step()\n",
        "\n",
        "        # Calculate average training loss for the epoch\n",
        "        epoch_loss = running_loss / len(image_datasets['train'])\n",
        "        print(f'Epoch [{epoch+1}/{num_epochs}], Training Loss: {epoch_loss:.4f}')\n",
        "\n",
        "        # Validation phase\n",
        "        model.eval()\n",
        "        corrects = 0\n",
        "        for inputs, labels in dataloaders['valid']:\n",
        "            inputs, labels = inputs.to(device), labels.to(device)\n",
        "\n",
        "            outputs = model(inputs)\n",
        "            _, preds = torch.max(outputs, 1)\n",
        "            corrects += torch.sum(preds == labels.data)\n",
        "\n",
        "        # Calculate validation accuracy for the epoch\n",
        "        epoch_acc = corrects.double() / len(image_datasets['valid'])\n",
        "        print(f'Epoch [{epoch+1}/{num_epochs}], Validation Acc: {epoch_acc:.4f}')"
      ],
      "metadata": {
        "id": "rvJ_IimWP5ib"
      },
      "execution_count": 10,
      "outputs": []
    },
    {
      "cell_type": "code",
      "source": [
        "def test(model, dataloader):\n",
        "    model.eval()\n",
        "    corrects = 0\n",
        "    total = 0\n",
        "\n",
        "    with torch.no_grad():\n",
        "        for inputs, labels in dataloader['test']:\n",
        "            inputs, labels = inputs.to(device), labels.to(device)\n",
        "\n",
        "            outputs = model(inputs)\n",
        "            _, preds = torch.max(outputs, 1)\n",
        "            corrects += torch.sum(preds == labels.data)\n",
        "            total += labels.size(0)\n",
        "\n",
        "    test_acc = corrects.double() / total\n",
        "    print(f'Test Accuracy: {test_acc:.4f}')"
      ],
      "metadata": {
        "id": "3QSnmuwcQAmO"
      },
      "execution_count": 11,
      "outputs": []
    },
    {
      "cell_type": "code",
      "source": [
        "# 학습 및 스케줄러 갱신 수행\n",
        "train(model, criterion, optimizer, step_lr_scheduler, num_epochs=25)\n",
        "\n",
        "# 테스트 데이터에 대한 정확도 출력\n",
        "test(model, dataloaders)"
      ],
      "metadata": {
        "colab": {
          "base_uri": "https://localhost:8080/"
        },
        "id": "o_9GRth-QDiQ",
        "outputId": "c422b4cc-c707-4117-b91f-612f18461a2f"
      },
      "execution_count": 12,
      "outputs": [
        {
          "output_type": "stream",
          "name": "stdout",
          "text": [
            "Epoch [1/25], Training Loss: 1.2859\n",
            "Epoch [1/25], Validation Acc: 0.8394\n",
            "Epoch [2/25], Training Loss: 0.8241\n",
            "Epoch [2/25], Validation Acc: 0.8759\n",
            "Epoch [3/25], Training Loss: 0.6919\n",
            "Epoch [3/25], Validation Acc: 0.8613\n",
            "Epoch [4/25], Training Loss: 0.6205\n",
            "Epoch [4/25], Validation Acc: 0.8686\n",
            "Epoch [5/25], Training Loss: 0.5628\n",
            "Epoch [5/25], Validation Acc: 0.8905\n",
            "Epoch [6/25], Training Loss: 0.5623\n",
            "Epoch [6/25], Validation Acc: 0.9075\n",
            "Epoch [7/25], Training Loss: 0.5026\n",
            "Epoch [7/25], Validation Acc: 0.9027\n",
            "Epoch [8/25], Training Loss: 0.4558\n",
            "Epoch [8/25], Validation Acc: 0.9319\n",
            "Epoch [9/25], Validation Acc: 0.9270\n",
            "Epoch [10/25], Training Loss: 0.4306\n",
            "Epoch [10/25], Validation Acc: 0.9221\n",
            "Epoch [11/25], Training Loss: 0.4141\n",
            "Epoch [11/25], Validation Acc: 0.9221\n",
            "Epoch [12/25], Training Loss: 0.3956\n",
            "Epoch [12/25], Validation Acc: 0.9221\n",
            "Epoch [13/25], Training Loss: 0.4159\n",
            "Epoch [13/25], Validation Acc: 0.9270\n",
            "Epoch [14/25], Training Loss: 0.4329\n",
            "Epoch [14/25], Validation Acc: 0.9294\n",
            "Epoch [15/25], Training Loss: 0.4031\n",
            "Epoch [15/25], Validation Acc: 0.9294\n",
            "Epoch [16/25], Training Loss: 0.3899\n",
            "Epoch [16/25], Validation Acc: 0.9319\n",
            "Epoch [17/25], Training Loss: 0.4048\n",
            "Epoch [17/25], Validation Acc: 0.9319\n",
            "Epoch [18/25], Training Loss: 0.4056\n",
            "Epoch [18/25], Validation Acc: 0.9294\n",
            "Epoch [19/25], Training Loss: 0.4077\n",
            "Epoch [19/25], Validation Acc: 0.9343\n",
            "Epoch [20/25], Training Loss: 0.4040\n",
            "Epoch [20/25], Validation Acc: 0.9294\n",
            "Epoch [21/25], Training Loss: 0.4098\n",
            "Epoch [21/25], Validation Acc: 0.9270\n",
            "Epoch [22/25], Training Loss: 0.4366\n",
            "Epoch [22/25], Validation Acc: 0.9319\n",
            "Epoch [23/25], Training Loss: 0.4237\n",
            "Epoch [23/25], Validation Acc: 0.9246\n",
            "Epoch [24/25], Training Loss: 0.3884\n",
            "Epoch [24/25], Validation Acc: 0.9246\n",
            "Epoch [25/25], Training Loss: 0.4011\n",
            "Epoch [25/25], Validation Acc: 0.9270\n",
            "Test Accuracy: 0.9540\n"
          ]
        }
      ]
    },
    {
      "cell_type": "code",
      "source": [
        "torch.save(model.state_dict(), '/content/drive/MyDrive/dressmeup/cloth-segmentation/long_short_classification.pth')\n",
        "\n",
        "# 모델 로드\n",
        "loaded_model = models.resnet18(pretrained=False)\n",
        "loaded_model.fc =  nn.Linear(model.fc.in_features, 6).to(device)\n",
        "\n",
        "loaded_model.load_state_dict(torch.load('/content/drive/MyDrive/dressmeup/cloth-segmentation/long_short_classification.pth'))\n",
        "loaded_model.eval()"
      ],
      "metadata": {
        "colab": {
          "base_uri": "https://localhost:8080/"
        },
        "id": "TIC2TXI4StFT",
        "outputId": "604777ce-26fd-4d4e-88e1-e554fce2fda5"
      },
      "execution_count": 15,
      "outputs": [
        {
          "output_type": "execute_result",
          "data": {
            "text/plain": [
              "ResNet(\n",
              "  (conv1): Conv2d(3, 64, kernel_size=(7, 7), stride=(2, 2), padding=(3, 3), bias=False)\n",
              "  (bn1): BatchNorm2d(64, eps=1e-05, momentum=0.1, affine=True, track_running_stats=True)\n",
              "  (relu): ReLU(inplace=True)\n",
              "  (maxpool): MaxPool2d(kernel_size=3, stride=2, padding=1, dilation=1, ceil_mode=False)\n",
              "  (layer1): Sequential(\n",
              "    (0): BasicBlock(\n",
              "      (conv1): Conv2d(64, 64, kernel_size=(3, 3), stride=(1, 1), padding=(1, 1), bias=False)\n",
              "      (bn1): BatchNorm2d(64, eps=1e-05, momentum=0.1, affine=True, track_running_stats=True)\n",
              "      (relu): ReLU(inplace=True)\n",
              "      (conv2): Conv2d(64, 64, kernel_size=(3, 3), stride=(1, 1), padding=(1, 1), bias=False)\n",
              "      (bn2): BatchNorm2d(64, eps=1e-05, momentum=0.1, affine=True, track_running_stats=True)\n",
              "    )\n",
              "    (1): BasicBlock(\n",
              "      (conv1): Conv2d(64, 64, kernel_size=(3, 3), stride=(1, 1), padding=(1, 1), bias=False)\n",
              "      (bn1): BatchNorm2d(64, eps=1e-05, momentum=0.1, affine=True, track_running_stats=True)\n",
              "      (relu): ReLU(inplace=True)\n",
              "      (conv2): Conv2d(64, 64, kernel_size=(3, 3), stride=(1, 1), padding=(1, 1), bias=False)\n",
              "      (bn2): BatchNorm2d(64, eps=1e-05, momentum=0.1, affine=True, track_running_stats=True)\n",
              "    )\n",
              "  )\n",
              "  (layer2): Sequential(\n",
              "    (0): BasicBlock(\n",
              "      (conv1): Conv2d(64, 128, kernel_size=(3, 3), stride=(2, 2), padding=(1, 1), bias=False)\n",
              "      (bn1): BatchNorm2d(128, eps=1e-05, momentum=0.1, affine=True, track_running_stats=True)\n",
              "      (relu): ReLU(inplace=True)\n",
              "      (conv2): Conv2d(128, 128, kernel_size=(3, 3), stride=(1, 1), padding=(1, 1), bias=False)\n",
              "      (bn2): BatchNorm2d(128, eps=1e-05, momentum=0.1, affine=True, track_running_stats=True)\n",
              "      (downsample): Sequential(\n",
              "        (0): Conv2d(64, 128, kernel_size=(1, 1), stride=(2, 2), bias=False)\n",
              "        (1): BatchNorm2d(128, eps=1e-05, momentum=0.1, affine=True, track_running_stats=True)\n",
              "      )\n",
              "    )\n",
              "    (1): BasicBlock(\n",
              "      (conv1): Conv2d(128, 128, kernel_size=(3, 3), stride=(1, 1), padding=(1, 1), bias=False)\n",
              "      (bn1): BatchNorm2d(128, eps=1e-05, momentum=0.1, affine=True, track_running_stats=True)\n",
              "      (relu): ReLU(inplace=True)\n",
              "      (conv2): Conv2d(128, 128, kernel_size=(3, 3), stride=(1, 1), padding=(1, 1), bias=False)\n",
              "      (bn2): BatchNorm2d(128, eps=1e-05, momentum=0.1, affine=True, track_running_stats=True)\n",
              "    )\n",
              "  )\n",
              "  (layer3): Sequential(\n",
              "    (0): BasicBlock(\n",
              "      (conv1): Conv2d(128, 256, kernel_size=(3, 3), stride=(2, 2), padding=(1, 1), bias=False)\n",
              "      (bn1): BatchNorm2d(256, eps=1e-05, momentum=0.1, affine=True, track_running_stats=True)\n",
              "      (relu): ReLU(inplace=True)\n",
              "      (conv2): Conv2d(256, 256, kernel_size=(3, 3), stride=(1, 1), padding=(1, 1), bias=False)\n",
              "      (bn2): BatchNorm2d(256, eps=1e-05, momentum=0.1, affine=True, track_running_stats=True)\n",
              "      (downsample): Sequential(\n",
              "        (0): Conv2d(128, 256, kernel_size=(1, 1), stride=(2, 2), bias=False)\n",
              "        (1): BatchNorm2d(256, eps=1e-05, momentum=0.1, affine=True, track_running_stats=True)\n",
              "      )\n",
              "    )\n",
              "    (1): BasicBlock(\n",
              "      (conv1): Conv2d(256, 256, kernel_size=(3, 3), stride=(1, 1), padding=(1, 1), bias=False)\n",
              "      (bn1): BatchNorm2d(256, eps=1e-05, momentum=0.1, affine=True, track_running_stats=True)\n",
              "      (relu): ReLU(inplace=True)\n",
              "      (conv2): Conv2d(256, 256, kernel_size=(3, 3), stride=(1, 1), padding=(1, 1), bias=False)\n",
              "      (bn2): BatchNorm2d(256, eps=1e-05, momentum=0.1, affine=True, track_running_stats=True)\n",
              "    )\n",
              "  )\n",
              "  (layer4): Sequential(\n",
              "    (0): BasicBlock(\n",
              "      (conv1): Conv2d(256, 512, kernel_size=(3, 3), stride=(2, 2), padding=(1, 1), bias=False)\n",
              "      (bn1): BatchNorm2d(512, eps=1e-05, momentum=0.1, affine=True, track_running_stats=True)\n",
              "      (relu): ReLU(inplace=True)\n",
              "      (conv2): Conv2d(512, 512, kernel_size=(3, 3), stride=(1, 1), padding=(1, 1), bias=False)\n",
              "      (bn2): BatchNorm2d(512, eps=1e-05, momentum=0.1, affine=True, track_running_stats=True)\n",
              "      (downsample): Sequential(\n",
              "        (0): Conv2d(256, 512, kernel_size=(1, 1), stride=(2, 2), bias=False)\n",
              "        (1): BatchNorm2d(512, eps=1e-05, momentum=0.1, affine=True, track_running_stats=True)\n",
              "      )\n",
              "    )\n",
              "    (1): BasicBlock(\n",
              "      (conv1): Conv2d(512, 512, kernel_size=(3, 3), stride=(1, 1), padding=(1, 1), bias=False)\n",
              "      (bn1): BatchNorm2d(512, eps=1e-05, momentum=0.1, affine=True, track_running_stats=True)\n",
              "      (relu): ReLU(inplace=True)\n",
              "      (conv2): Conv2d(512, 512, kernel_size=(3, 3), stride=(1, 1), padding=(1, 1), bias=False)\n",
              "      (bn2): BatchNorm2d(512, eps=1e-05, momentum=0.1, affine=True, track_running_stats=True)\n",
              "    )\n",
              "  )\n",
              "  (avgpool): AdaptiveAvgPool2d(output_size=(1, 1))\n",
              "  (fc): Linear(in_features=512, out_features=6, bias=True)\n",
              ")"
            ]
          },
          "metadata": {},
          "execution_count": 15
        }
      ]
    },
    {
      "cell_type": "code",
      "source": [
        "from PIL import Image\n",
        "import torchvision.transforms as transforms\n",
        "import torch\n",
        "\n",
        "\n",
        "device = torch.device(\"cuda\" if torch.cuda.is_available() else \"cpu\")\n",
        "\n",
        "\n",
        "image_path = \"/content/drive/MyDrive/dressmeup/cloth-segmentation/output/2988164_1_220.jpg\"\n",
        "image = Image.open(image_path)\n",
        "\n",
        "\n",
        "preprocess = transforms.Compose([\n",
        "    transforms.Resize(256),\n",
        "    transforms.CenterCrop(224),\n",
        "    transforms.ToTensor(),\n",
        "    transforms.Normalize([0.485, 0.456, 0.406], [0.229, 0.224, 0.225]),\n",
        "])\n",
        "\n",
        "input_tensor = preprocess(image)\n",
        "input_batch = input_tensor.unsqueeze(0)  # 모델은 배치를 사용하므로 차원 추가\n",
        "\n",
        "# 저장한 모델 불러오기\n",
        "loaded_model = models.resnet18(pretrained=False)\n",
        "loaded_model.fc = nn.Linear(loaded_model.fc.in_features, 6)\n",
        "loaded_model = loaded_model.to(device)\n",
        "\n",
        "loaded_model.load_state_dict(torch.load('/content/drive/MyDrive/dressmeup/cloth-segmentation/long_short_classification.pth', map_location=device))\n",
        "loaded_model.eval()\n",
        "\n",
        "\n",
        "input_batch = input_batch.to(device)\n",
        "\n",
        "\n",
        "with torch.no_grad():\n",
        "    output = loaded_model(input_batch)\n",
        "\n",
        "\n",
        "_, predicted_class = torch.max(output, 1)\n",
        "predicted_class_index = predicted_class.item()\n",
        "\n",
        "\n",
        "class_labels = image_datasets['train'].class_to_idx\n",
        "\n",
        "\n",
        "predicted_class_name = next(key for key, value in class_labels.items() if value == predicted_class_index)\n",
        "print(f\"Predicted Class Name: {predicted_class_name}\")"
      ],
      "metadata": {
        "id": "0lJLhOa1p0Ak"
      },
      "execution_count": null,
      "outputs": []
    }
  ]
}